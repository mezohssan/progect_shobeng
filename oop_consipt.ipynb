{
 "cells": [
  {
   "cell_type": "code",
   "execution_count": 43,
   "metadata": {},
   "outputs": [],
   "source": [
    "#incabsolashan\n",
    "# polymor phisme here \n",
    "\n",
    "class shopes :\n",
    "    \n",
    "    def __init__(self,name,drodacts=\" \"):\n",
    "        self.name=name\n",
    "        self.drodacts=drodacts\n",
    "    \n",
    "    def show_drodacts (self):\n",
    "        c=1\n",
    "        prodact_0=[]\n",
    "        for t in self.drodacts:\n",
    "            if self.drodacts[t][1] == 0 :\n",
    "                prodact_0.append(t)\n",
    "            \n",
    "            else:    \n",
    "                print(f\"the prodact {c} is {self.drodacts[t]} and the price is {self.drodacts[t][0]} and we have {self.drodacts[t][1]} unit\")\n",
    "                c+=1\n",
    "                \n",
    "        for x in prodact_0 :\n",
    "            del self.drodacts[x]\n",
    "                \n",
    "    def add_prodact(self,new_prodact):\n",
    "        \n",
    "        self.drodacts.update(new_prodact)\n",
    "        print(\"Successful operation\")\n",
    "        \n",
    "\n",
    "                    \n",
    "                                        \n",
    "                    \n",
    "class custimar:\n",
    "    def __init__(self,name,mony):\n",
    "        \n",
    "        self.name=name\n",
    "        self.__mony=mony\n",
    "    \n",
    "    \n",
    "    def bay (self,oop_shop,prodact,count):\n",
    "        \n",
    "        \n",
    "        if prodact in oop_shop.drodacts:  \n",
    "            \n",
    "            if count <= oop_shop.drodacts[prodact][1]:\n",
    "                \n",
    "                total_price=oop_shop.drodacts[prodact][0] * count \n",
    "                \n",
    "                if self.__mony >=total_price :\n",
    "                    \n",
    "                    oop_shop.drodacts[prodact][1] -= count \n",
    "                \n",
    "                    self.__mony-=total_price\n",
    "                    \n",
    "                    print(\"Successful operation\")\n",
    "                    \n",
    "                    \n",
    "                    if oop_shop.drodacts[prodact][1] == 0:\n",
    "                        del oop_shop.drodacts[prodact]\n",
    "                     \n",
    "                else:\n",
    "                    print(\"you do not have enough mony \")\n",
    "                \n",
    "            else :\n",
    "                print(f\"sory we do not have {count} we just have {oop_shop.drodacts[prodact][1]}\")\n",
    "        else:\n",
    "            print(f\"sory we do not have this prodact in {self.name} we tust have \")#the proplem i want to print the name of shop \n",
    "            oop_shop.show_drodacts()\n",
    "            \n",
    "            \n",
    "    def show_drodacts (self,oop):\n",
    "        oop.show_drodacts()\n",
    "        \n",
    "        \n",
    "    def get_mony (self) :\n",
    "        return self.__mony\n",
    "    \n",
    "    def set_mony (self,amount):\n",
    "        self.__mony +=amount\n",
    "        print(\"Successful operation\")\n",
    "            \n",
    "        \n",
    "    \n",
    "   \n",
    "    \n",
    "            \n",
    "    \n",
    "\n"
   ]
  },
  {
   "cell_type": "code",
   "execution_count": 44,
   "metadata": {},
   "outputs": [],
   "source": [
    "appel=shopes(\"appel\",{\"makpok\":[1200,1] , \"iphon 13\":[2500,3] ,\"iphon 12\":[1900,3] , \"iphon 11\":[1700,0]})\n",
    "\n",
    "moaaz= custimar(\"moaaz\",10000)    "
   ]
  },
  {
   "cell_type": "code",
   "execution_count": 45,
   "metadata": {},
   "outputs": [
    {
     "name": "stdout",
     "output_type": "stream",
     "text": [
      "Successful operation\n"
     ]
    }
   ],
   "source": [
    "moaaz.bay(appel,\"makpok\",1)"
   ]
  },
  {
   "cell_type": "code",
   "execution_count": 46,
   "metadata": {},
   "outputs": [
    {
     "name": "stdout",
     "output_type": "stream",
     "text": [
      "the prodact 1 is [2500, 3] and the price is 2500 and we have 3 unit\n",
      "the prodact 2 is [1900, 3] and the price is 1900 and we have 3 unit\n"
     ]
    }
   ],
   "source": [
    "moaaz.show_drodacts(appel)"
   ]
  },
  {
   "cell_type": "code",
   "execution_count": 47,
   "metadata": {},
   "outputs": [
    {
     "data": {
      "text/plain": [
       "8800"
      ]
     },
     "execution_count": 47,
     "metadata": {},
     "output_type": "execute_result"
    }
   ],
   "source": [
    "moaaz.get_mony()"
   ]
  },
  {
   "cell_type": "code",
   "execution_count": 48,
   "metadata": {},
   "outputs": [
    {
     "name": "stdout",
     "output_type": "stream",
     "text": [
      "Successful operation\n"
     ]
    }
   ],
   "source": [
    "moaaz.set_mony(10020)"
   ]
  },
  {
   "cell_type": "code",
   "execution_count": 49,
   "metadata": {},
   "outputs": [
    {
     "data": {
      "text/plain": [
       "18820"
      ]
     },
     "execution_count": 49,
     "metadata": {},
     "output_type": "execute_result"
    }
   ],
   "source": [
    "moaaz.get_mony()"
   ]
  },
  {
   "cell_type": "code",
   "execution_count": 50,
   "metadata": {},
   "outputs": [
    {
     "name": "stdout",
     "output_type": "stream",
     "text": [
      "the prodact 1 is [2500, 3] and the price is 2500 and we have 3 unit\n",
      "the prodact 2 is [1900, 3] and the price is 1900 and we have 3 unit\n"
     ]
    }
   ],
   "source": [
    "moaaz.show_drodacts(appel)"
   ]
  },
  {
   "cell_type": "code",
   "execution_count": 51,
   "metadata": {},
   "outputs": [
    {
     "name": "stdout",
     "output_type": "stream",
     "text": [
      "Successful operation\n"
     ]
    }
   ],
   "source": [
    "appel.add_prodact({\"airbods\":[1200,10]})"
   ]
  },
  {
   "cell_type": "code",
   "execution_count": 52,
   "metadata": {},
   "outputs": [
    {
     "name": "stdout",
     "output_type": "stream",
     "text": [
      "the prodact 1 is [2500, 3] and the price is 2500 and we have 3 unit\n",
      "the prodact 2 is [1900, 3] and the price is 1900 and we have 3 unit\n",
      "the prodact 3 is [1200, 10] and the price is 1200 and we have 10 unit\n"
     ]
    }
   ],
   "source": [
    "appel.show_drodacts()"
   ]
  },
  {
   "cell_type": "code",
   "execution_count": 54,
   "metadata": {},
   "outputs": [
    {
     "name": "stdout",
     "output_type": "stream",
     "text": [
      "the prodact 1 is [2500, 3] and the price is 2500 and we have 3 unit\n",
      "the prodact 2 is [1900, 3] and the price is 1900 and we have 3 unit\n",
      "the prodact 3 is [1200, 10] and the price is 1200 and we have 10 unit\n"
     ]
    }
   ],
   "source": [
    "moaaz.show_drodacts(appel)"
   ]
  },
  {
   "cell_type": "code",
   "execution_count": null,
   "metadata": {},
   "outputs": [],
   "source": []
  }
 ],
 "metadata": {
  "kernelspec": {
   "display_name": "Python 3",
   "language": "python",
   "name": "python3"
  },
  "language_info": {
   "codemirror_mode": {
    "name": "ipython",
    "version": 3
   },
   "file_extension": ".py",
   "mimetype": "text/x-python",
   "name": "python",
   "nbconvert_exporter": "python",
   "pygments_lexer": "ipython3",
   "version": "3.7.6"
  }
 },
 "nbformat": 4,
 "nbformat_minor": 4
}
mmmaclwe;m'do
