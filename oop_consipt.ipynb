{
 "cells": [
  {
   "cell_type": "code",
   "execution_count": 23,
   "metadata": {},
   "outputs": [],
   "source": [
    "#incabsolashan\n",
    "# polymor phisme here \n",
    "\n",
    "class shopes :\n",
    "    \n",
    "    def __init__(self,name,drodacts=\" \"):\n",
    "        self.name=name\n",
    "        self.drodacts=drodacts\n",
    "    \n",
    "    def show_drodacts (self):\n",
    "        c=1\n",
    "        for t in self.drodacts:\n",
    "            if self.drodacts[t][1] == 0 :\n",
    "                del self.drodacts [t]\n",
    "                \n",
    "            else:    \n",
    "                \n",
    "                print(f\"the prodact {c} is {t[0]} and the price is {t[1][0]} and we have {t[1][1]} unit\")\n",
    "                c+=1\n",
    "                \n",
    "    def add_prodact(self,new_prodact):\n",
    "        \n",
    "        self.drodacts.update(new_prodact)\n",
    "        print(\"Successful operation\")\n",
    "        \n",
    "\n",
    "                    \n",
    "                    \n",
    "                    \n",
    "                    \n",
    "                    \n",
    "class custimar:\n",
    "    def __init__(self,name,mony):\n",
    "        \n",
    "        self.name=name\n",
    "        self.__mony=mony\n",
    "    \n",
    "    \n",
    "    def bay (self,oop_shop,prodact,count):\n",
    "        \n",
    "        \n",
    "        if prodact in oop_shop.drodacts:  \n",
    "            \n",
    "            if count <= oop_shop.drodacts[prodact][1]:\n",
    "                \n",
    "                total_price=oop_shop.drodacts[prodact][0] * count \n",
    "                \n",
    "                if self.__mony >=total_price :\n",
    "                    \n",
    "                    oop_shop.drodacts[prodact][1] -= count \n",
    "                \n",
    "                    self.__mony-=total_price\n",
    "                    \n",
    "                    print(\"Successful operation\")\n",
    "#                     if to delete if count of product = 0\n",
    "                else:\n",
    "                    print(\"you do not have enough mony \")\n",
    "                \n",
    "            else :\n",
    "                print(f\"sory we do not have {count} we just have {oop_shop.drodacts[prodact][1]}\")\n",
    "        else:\n",
    "            print(f\"sory we do not have this prodact in {self.name} we tust have \")#the proplem i want to print the name of shop \n",
    "            oop_shop.show_drodacts()\n",
    "            \n",
    "            \n",
    "    def show_drodacts (self,oop):\n",
    "        oop.show_drodacts()\n",
    "        \n",
    "        \n",
    "    def get_mony (self) :\n",
    "        return self.__mony\n",
    "    \n",
    "    def set_mony (self,amount):\n",
    "        self.__mony +=amount\n",
    "        print(\"Successful operation\")\n",
    "            \n",
    "        \n",
    "    \n",
    "   \n",
    "    \n",
    "            \n",
    "    \n",
    "\n"
   ]
  },
  {
   "cell_type": "code",
   "execution_count": 24,
   "metadata": {},
   "outputs": [],
   "source": [
    "appel=shopes(\"appel\",{\"makpok\":[1200,0] , \"iphon 13\":[2500,3] ,\"iphon 12\":[1900,3] , \"iphon 11\":[1700,0]})\n",
    "samsong=shopes(\"samsong\",{\"phon s3\":[1000,5] , \"galaxi 9\":[1500,3] ,\"laptop\":[3900,3] , \"camira\":[700,3]})\n",
    "\n",
    "moaaz= custimar(\"moaaz\",10000)    "
   ]
  },
  {
   "cell_type": "code",
   "execution_count": 25,
   "metadata": {},
   "outputs": [
    {
     "name": "stdout",
     "output_type": "stream",
     "text": [
      "Successful operation\n"
     ]
    }
   ],
   "source": [
    "appel.add_prodact( {\"ais bods\":[1700,0]})"
   ]
  },
  {
   "cell_type": "code",
   "execution_count": 21,
   "metadata": {},
   "outputs": [
    {
     "ename": "RuntimeError",
     "evalue": "dictionary changed size during iteration",
     "output_type": "error",
     "traceback": [
      "\u001b[1;31m---------------------------------------------------------------------------\u001b[0m",
      "\u001b[1;31mRuntimeError\u001b[0m                              Traceback (most recent call last)",
      "\u001b[1;32m<ipython-input-21-eb79ba304e95>\u001b[0m in \u001b[0;36m<module>\u001b[1;34m\u001b[0m\n\u001b[1;32m----> 1\u001b[1;33m \u001b[0mappel\u001b[0m\u001b[1;33m.\u001b[0m\u001b[0mshow_drodacts\u001b[0m\u001b[1;33m(\u001b[0m\u001b[1;33m)\u001b[0m\u001b[1;33m\u001b[0m\u001b[1;33m\u001b[0m\u001b[0m\n\u001b[0m",
      "\u001b[1;32m<ipython-input-18-3a074ac4361c>\u001b[0m in \u001b[0;36mshow_drodacts\u001b[1;34m(self)\u001b[0m\n\u001b[0;32m     10\u001b[0m     \u001b[1;32mdef\u001b[0m \u001b[0mshow_drodacts\u001b[0m \u001b[1;33m(\u001b[0m\u001b[0mself\u001b[0m\u001b[1;33m)\u001b[0m\u001b[1;33m:\u001b[0m\u001b[1;33m\u001b[0m\u001b[1;33m\u001b[0m\u001b[0m\n\u001b[0;32m     11\u001b[0m         \u001b[0mc\u001b[0m\u001b[1;33m=\u001b[0m\u001b[1;36m1\u001b[0m\u001b[1;33m\u001b[0m\u001b[1;33m\u001b[0m\u001b[0m\n\u001b[1;32m---> 12\u001b[1;33m         \u001b[1;32mfor\u001b[0m \u001b[0mt\u001b[0m \u001b[1;32min\u001b[0m \u001b[0mself\u001b[0m\u001b[1;33m.\u001b[0m\u001b[0mdrodacts\u001b[0m\u001b[1;33m:\u001b[0m\u001b[1;33m\u001b[0m\u001b[1;33m\u001b[0m\u001b[0m\n\u001b[0m\u001b[0;32m     13\u001b[0m             \u001b[1;32mif\u001b[0m \u001b[0mself\u001b[0m\u001b[1;33m.\u001b[0m\u001b[0mdrodacts\u001b[0m\u001b[1;33m[\u001b[0m\u001b[0mt\u001b[0m\u001b[1;33m]\u001b[0m\u001b[1;33m[\u001b[0m\u001b[1;36m1\u001b[0m\u001b[1;33m]\u001b[0m \u001b[1;33m==\u001b[0m \u001b[1;36m0\u001b[0m \u001b[1;33m:\u001b[0m\u001b[1;33m\u001b[0m\u001b[1;33m\u001b[0m\u001b[0m\n\u001b[0;32m     14\u001b[0m                 \u001b[1;32mdel\u001b[0m \u001b[0mself\u001b[0m\u001b[1;33m.\u001b[0m\u001b[0mdrodacts\u001b[0m \u001b[1;33m[\u001b[0m\u001b[0mt\u001b[0m\u001b[1;33m]\u001b[0m\u001b[1;33m\u001b[0m\u001b[1;33m\u001b[0m\u001b[0m\n",
      "\u001b[1;31mRuntimeError\u001b[0m: dictionary changed size during iteration"
     ]
    }
   ],
   "source": [
    "appel.show_drodacts()"
   ]
  },
  {
   "cell_type": "code",
   "execution_count": null,
   "metadata": {},
   "outputs": [],
   "source": []
  },
  {
   "cell_type": "code",
   "execution_count": null,
   "metadata": {},
   "outputs": [],
   "source": []
  },
  {
   "cell_type": "code",
   "execution_count": null,
   "metadata": {},
   "outputs": [],
   "source": []
  },
  {
   "cell_type": "code",
   "execution_count": null,
   "metadata": {},
   "outputs": [],
   "source": []
  },
  {
   "cell_type": "code",
   "execution_count": null,
   "metadata": {},
   "outputs": [],
   "source": []
  },
  {
   "cell_type": "code",
   "execution_count": 7,
   "metadata": {},
   "outputs": [
    {
     "name": "stdout",
     "output_type": "stream",
     "text": [
      "ahimad.com\n"
     ]
    }
   ],
   "source": [
    "d={\"moaaz\":\"moaaz.com\",\"ahimad\":\"ahimad.com\",\"tamir\":\"tamir.com\"}\n",
    "for t in d :\n",
    "    if d[t] == \"ahimad.com\" :\n",
    "        print(d[t])"
   ]
  },
  {
   "cell_type": "code",
   "execution_count": 6,
   "metadata": {},
   "outputs": [
    {
     "data": {
      "text/plain": [
       "'ahimad.com'"
      ]
     },
     "execution_count": 6,
     "metadata": {},
     "output_type": "execute_result"
    }
   ],
   "source": [
    "d[\"ahimad\"]"
   ]
  },
  {
   "cell_type": "code",
   "execution_count": 13,
   "metadata": {},
   "outputs": [
    {
     "data": {
      "text/plain": [
       "0"
      ]
     },
     "execution_count": 13,
     "metadata": {},
     "output_type": "execute_result"
    }
   ],
   "source": [
    "shopes={\"makpok\":[1200,0] , \"iphon 13\":[2500,3] ,\"iphon 12\":[1900,3] , \"iphon 11\":[1700,0]}\n",
    "shopes[\"makpok\"][1]"
   ]
  },
  {
   "cell_type": "code",
   "execution_count": null,
   "metadata": {},
   "outputs": [],
   "source": []
  },
  {
   "cell_type": "code",
   "execution_count": 4,
   "metadata": {},
   "outputs": [
    {
     "name": "stdout",
     "output_type": "stream",
     "text": [
      "{'iphon 13': [2500, 3], 'iphon 12': [1900, 3]}\n"
     ]
    }
   ],
   "source": [
    "shopes={\"makpok\":[1200,0] , \"iphon 13\":[2500,3] ,\"iphon 12\":[1900,3] , \"iphon 11\":[1700,0]}\n",
    "c=[]\n",
    "for t in shopes:\n",
    "    if shopes[t][1] == 0 :\n",
    "        c.append(t)\n",
    "for v in c :\n",
    "    del shopes[v]\n",
    "print(shopes)\n",
    "    \n",
    "                \n",
    "                \n",
    "                "
   ]
  },
  {
   "cell_type": "code",
   "execution_count": 5,
   "metadata": {},
   "outputs": [
    {
     "ename": "RuntimeError",
     "evalue": "dictionary changed size during iteration",
     "output_type": "error",
     "traceback": [
      "\u001b[1;31m---------------------------------------------------------------------------\u001b[0m",
      "\u001b[1;31mRuntimeError\u001b[0m                              Traceback (most recent call last)",
      "\u001b[1;32m<ipython-input-5-0beae105da67>\u001b[0m in \u001b[0;36m<module>\u001b[1;34m\u001b[0m\n\u001b[0;32m      1\u001b[0m \u001b[0mshopes\u001b[0m\u001b[1;33m=\u001b[0m\u001b[1;33m{\u001b[0m\u001b[1;34m\"makpok\"\u001b[0m\u001b[1;33m:\u001b[0m\u001b[1;33m[\u001b[0m\u001b[1;36m1200\u001b[0m\u001b[1;33m,\u001b[0m\u001b[1;36m0\u001b[0m\u001b[1;33m]\u001b[0m \u001b[1;33m,\u001b[0m \u001b[1;34m\"iphon 13\"\u001b[0m\u001b[1;33m:\u001b[0m\u001b[1;33m[\u001b[0m\u001b[1;36m2500\u001b[0m\u001b[1;33m,\u001b[0m\u001b[1;36m3\u001b[0m\u001b[1;33m]\u001b[0m \u001b[1;33m,\u001b[0m\u001b[1;34m\"iphon 12\"\u001b[0m\u001b[1;33m:\u001b[0m\u001b[1;33m[\u001b[0m\u001b[1;36m1900\u001b[0m\u001b[1;33m,\u001b[0m\u001b[1;36m3\u001b[0m\u001b[1;33m]\u001b[0m \u001b[1;33m,\u001b[0m \u001b[1;34m\"iphon 11\"\u001b[0m\u001b[1;33m:\u001b[0m\u001b[1;33m[\u001b[0m\u001b[1;36m1700\u001b[0m\u001b[1;33m,\u001b[0m\u001b[1;36m0\u001b[0m\u001b[1;33m]\u001b[0m\u001b[1;33m}\u001b[0m\u001b[1;33m\u001b[0m\u001b[1;33m\u001b[0m\u001b[0m\n\u001b[0;32m      2\u001b[0m \u001b[0mc\u001b[0m\u001b[1;33m=\u001b[0m\u001b[1;33m[\u001b[0m\u001b[1;33m]\u001b[0m\u001b[1;33m\u001b[0m\u001b[1;33m\u001b[0m\u001b[0m\n\u001b[1;32m----> 3\u001b[1;33m \u001b[1;32mfor\u001b[0m \u001b[0mt\u001b[0m \u001b[1;32min\u001b[0m \u001b[0mshopes\u001b[0m\u001b[1;33m:\u001b[0m\u001b[1;33m\u001b[0m\u001b[1;33m\u001b[0m\u001b[0m\n\u001b[0m\u001b[0;32m      4\u001b[0m     \u001b[1;32mif\u001b[0m \u001b[0mshopes\u001b[0m\u001b[1;33m[\u001b[0m\u001b[0mt\u001b[0m\u001b[1;33m]\u001b[0m\u001b[1;33m[\u001b[0m\u001b[1;36m1\u001b[0m\u001b[1;33m]\u001b[0m \u001b[1;33m==\u001b[0m \u001b[1;36m0\u001b[0m \u001b[1;33m:\u001b[0m\u001b[1;33m\u001b[0m\u001b[1;33m\u001b[0m\u001b[0m\n\u001b[0;32m      5\u001b[0m         \u001b[1;32mdel\u001b[0m \u001b[0mshopes\u001b[0m\u001b[1;33m[\u001b[0m\u001b[0mt\u001b[0m\u001b[1;33m]\u001b[0m\u001b[1;33m\u001b[0m\u001b[1;33m\u001b[0m\u001b[0m\n",
      "\u001b[1;31mRuntimeError\u001b[0m: dictionary changed size during iteration"
     ]
    }
   ],
   "source": [
    "shopes={\"makpok\":[1200,0] , \"iphon 13\":[2500,3] ,\"iphon 12\":[1900,3] , \"iphon 11\":[1700,0]}\n",
    "c=[]\n",
    "for t in shopes:\n",
    "    if shopes[t][1] == 0 :\n",
    "        del shopes[t]"
   ]
  },
  {
   "cell_type": "code",
   "execution_count": null,
   "metadata": {},
   "outputs": [],
   "source": []
  }
 ],
 "metadata": {
  "kernelspec": {
   "display_name": "Python 3",
   "language": "python",
   "name": "python3"
  },
  "language_info": {
   "codemirror_mode": {
    "name": "ipython",
    "version": 3
   },
   "file_extension": ".py",
   "mimetype": "text/x-python",
   "name": "python",
   "nbconvert_exporter": "python",
   "pygments_lexer": "ipython3",
   "version": "3.7.6"
  }
 },
 "nbformat": 4,
 "nbformat_minor": 4
}
